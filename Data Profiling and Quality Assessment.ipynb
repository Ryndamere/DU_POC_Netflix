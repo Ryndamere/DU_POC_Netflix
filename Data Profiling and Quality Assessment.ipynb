{
 "cells": [
  {
   "cell_type": "markdown",
   "metadata": {},
   "source": [
    "# Data Profiling\n",
    "\n",
    "The data was imported from CP-1252 to UTF-8 and has corrupted some of the foreign characters in the movies that com from Netflix.  We made the mistake of manually chaning this data to similar english character in excel.\n",
    "\n",
    "Most of the data is text strings so no quantitfing way to show the amount of show titles.\n",
    "\n",
    "about 50% of the show season_title will be blank.  Becuase it is comparing top 10 Tv shows and Movies.  So Movies don't have season_title.\n",
    "\n",
    "\n",
    "\n"
   ]
  },
  {
   "cell_type": "code",
   "execution_count": 2,
   "metadata": {},
   "outputs": [],
   "source": [
    "import pandas as pd\n",
    "import numpy as np"
   ]
  },
  {
   "cell_type": "code",
   "execution_count": 3,
   "metadata": {},
   "outputs": [
    {
     "name": "stdout",
     "output_type": "stream",
     "text": [
      "        weekly_rank  cumulative_weeks_in_top_10\n",
      "count  60160.000000                60160.000000\n",
      "mean       5.500000                    3.000066\n",
      "std        2.872305                    3.599029\n",
      "min        1.000000                    1.000000\n",
      "25%        3.000000                    1.000000\n",
      "50%        5.500000                    2.000000\n",
      "75%        8.000000                    3.000000\n",
      "max       10.000000                   32.000000\n"
     ]
    }
   ],
   "source": [
    "country_df = pd.read_csv('country_weekly.csv', encoding='unicode_escape')\n",
    "country_df_clean = country_df.drop([\"country_iso2\", \"cumulative_weeks_in_top_10\"], axis=1)\n",
    "print(country_df.describe())"
   ]
  },
  {
   "cell_type": "code",
   "execution_count": 4,
   "metadata": {},
   "outputs": [
    {
     "name": "stdout",
     "output_type": "stream",
     "text": [
      "show_title\n",
      "Money Heist               1574\n",
      "The Good Doctor           1498\n",
      "Squid Game                1187\n",
      "You                        950\n",
      "The Witcher                879\n",
      "                          ... \n",
      "Ip Man                       1\n",
      "The 40-Year-Old Virgin       1\n",
      "Iron Man                     1\n",
      "It                           1\n",
      "Solomon Kane                 1\n",
      "Length: 2156, dtype: int64\n"
     ]
    }
   ],
   "source": [
    "print(country_df_clean.value_counts(country_df_clean[\"show_title\"]))"
   ]
  },
  {
   "cell_type": "code",
   "execution_count": 33,
   "metadata": {},
   "outputs": [
    {
     "name": "stdout",
     "output_type": "stream",
     "text": [
      "season_title\n",
      "Squid Game: Season 1                1187\n",
      "Money Heist: Part 5                  858\n",
      "Maid: Limited Series                 712\n",
      "The Good Doctor: Season 1            573\n",
      "Sex/Life: Season 1                   551\n",
      "                                    ... \n",
      "Mom: Season 2                          1\n",
      "The Promised Neverland: Season 2       1\n",
      "60 Days In: Season 6                   1\n",
      "Mr. Robot: Season 2                    1\n",
      "dororo: Season 1                       1\n",
      "Length: 692, dtype: int64\n"
     ]
    }
   ],
   "source": [
    "print(country_df_clean.value_counts(country_df_clean[\"season_title\"]))"
   ]
  },
  {
   "cell_type": "code",
   "execution_count": 5,
   "metadata": {},
   "outputs": [
    {
     "name": "stdout",
     "output_type": "stream",
     "text": [
      "country_name      94\n",
      "week              32\n",
      "category           2\n",
      "weekly_rank       10\n",
      "show_title      2156\n",
      "season_title     692\n",
      "dtype: int64\n"
     ]
    }
   ],
   "source": [
    "print(country_df_clean.nunique(axis=0))"
   ]
  },
  {
   "cell_type": "code",
   "execution_count": 40,
   "metadata": {},
   "outputs": [
    {
     "name": "stdout",
     "output_type": "stream",
     "text": [
      "country_name        0\n",
      "week                0\n",
      "category            0\n",
      "weekly_rank         0\n",
      "show_title          0\n",
      "season_title    30381\n",
      "dtype: int64\n"
     ]
    }
   ],
   "source": [
    "print(country_df_clean.isna().sum())\n"
   ]
  },
  {
   "cell_type": "code",
   "execution_count": null,
   "metadata": {},
   "outputs": [],
   "source": []
  }
 ],
 "metadata": {
  "kernelspec": {
   "display_name": "Python 3 (ipykernel)",
   "language": "python",
   "name": "python3"
  },
  "language_info": {
   "codemirror_mode": {
    "name": "ipython",
    "version": 3
   },
   "file_extension": ".py",
   "mimetype": "text/x-python",
   "name": "python",
   "nbconvert_exporter": "python",
   "pygments_lexer": "ipython3",
   "version": "3.10.2"
  }
 },
 "nbformat": 4,
 "nbformat_minor": 2
}
